{
 "cells": [
  {
   "cell_type": "code",
   "execution_count": null,
   "metadata": {},
   "outputs": [],
   "source": []
  }
 ],
 "metadata": {
  "kernelspec": {
   "display_name": "mindspore_2.0_0227",
   "language": "python",
   "name": "python3"
  },
  "language_info": {
   "name": "python",
   "version": "3.8.13"
  },
  "orig_nbformat": 4,
  "vscode": {
   "interpreter": {
    "hash": "05c517b50f41e6be7144c1cbb587776c76406ba434488b73d8ff27b6b4bbd40f"
   }
  }
 },
 "nbformat": 4,
 "nbformat_minor": 2
}
